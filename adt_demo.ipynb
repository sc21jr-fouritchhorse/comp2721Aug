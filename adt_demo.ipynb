{
 "cells": [
  {
   "cell_type": "code",
   "execution_count": 7,
   "id": "initial_id",
   "metadata": {
    "collapsed": true,
    "ExecuteTime": {
     "end_time": "2023-08-18T11:46:01.100453500Z",
     "start_time": "2023-08-18T11:46:01.056353Z"
    }
   },
   "outputs": [],
   "source": [
    "import networkx as nx\n",
    "import matplotlib as mpl\n",
    "import numpy as np"
   ]
  },
  {
   "cell_type": "code",
   "execution_count": 8,
   "outputs": [],
   "source": [
    "class bst_node:\n",
    "    def __init__(self, v : any, k : int):\n",
    "        self.value = v\n",
    "        self.key = k\n",
    "        self.parent = None \n",
    "        self.left = None\n",
    "        self.right = None\n",
    "    def set_parent(self, p):\n",
    "        self.parent = p\n",
    "    def set_right(self, r):\n",
    "        self.right = r\n",
    "    def set_left(self, l):\n",
    "        self.left = l\n",
    "\n",
    "def successor(x :bst_node):\n",
    "    return x.right \n",
    "\n",
    "def predecessor(x : bst_node):\n",
    "    if x.left is not None:\n",
    "        return x.left\n",
    "    else:\n",
    "        return x.parent\n",
    "\n",
    "\n",
    "class binary_search_tree:    \n",
    "    def __init__(self, r : bst_node):\n",
    "        self.root = r\n",
    "        \n",
    "    def _swap(self, x : bst_node, y : bst_node):\n",
    "        tmp = x\n",
    "        \n",
    "        x.parent = y.parent\n",
    "        x.left = y.left\n",
    "        x.right = y.right\n",
    "        \n",
    "        y.parent = tmp.parent\n",
    "        y.left = tmp.left\n",
    "        y.right = tmp.right\n",
    "        \n",
    "    def _toggle_up(self, x : bst_node):\n",
    "        if x.parent is None:\n",
    "            return \n",
    "        else:\n",
    "            if x.key < x.parent.key:\n",
    "                self._toggle_up(x.parent)\n",
    "           \n",
    "    def _toggle_down(self, x : bst_node):\n",
    "        if x.right is None:\n",
    "            return\n",
    "        else:\n",
    "            if x.key > x.right.key:\n",
    "                self._toggle_down(x.right.key)\n",
    "    \n",
    "    def min(self):\n",
    "        x = self.root\n",
    "        while x.left != None:\n",
    "            x = x.left\n",
    "        return x\n",
    "        \n",
    "    def max(self):\n",
    "        x = self.root\n",
    "        while x.right != None:\n",
    "            x = x.right\n",
    "        return x\n",
    "        \n",
    "    def search(self, k : int):\n",
    "        x = self.root\n",
    "        while x.key != k:\n",
    "            if k > x.key:    \n",
    "                x = x.right\n",
    "            if k < x.key:\n",
    "                x = x.left\n",
    "        return x\n",
    "\n",
    "    def insert(self, v, k):\n",
    "        if self.search(k) is not None:\n",
    "            return \n",
    "        node = bst_node(v, k)\n",
    "        self.max().right = node\n",
    "        self._toggle_up(node)\n",
    "        \n",
    "    def dequeue(self):\n",
    "        min = self.min()\n",
    "        min.right.left = None\n",
    "        self._toggle_up(min.right)\n",
    "        return min\n",
    "        "
   ],
   "metadata": {
    "collapsed": false,
    "ExecuteTime": {
     "end_time": "2023-08-18T11:46:01.150418200Z",
     "start_time": "2023-08-18T11:46:01.080388200Z"
    }
   },
   "id": "983cdc8bc9da2c46"
  },
  {
   "cell_type": "code",
   "execution_count": 9,
   "outputs": [
    {
     "name": "stdout",
     "output_type": "stream",
     "text": [
      "root: <__main__.bst_node object at 0x000002096CCA7E50>\n"
     ]
    },
    {
     "ename": "AttributeError",
     "evalue": "'NoneType' object has no attribute 'key'",
     "output_type": "error",
     "traceback": [
      "\u001B[1;31m---------------------------------------------------------------------------\u001B[0m",
      "\u001B[1;31mAttributeError\u001B[0m                            Traceback (most recent call last)",
      "Cell \u001B[1;32mIn[9], line 5\u001B[0m\n\u001B[0;32m      1\u001B[0m bst \u001B[38;5;241m=\u001B[39m binary_search_tree(bst_node(\u001B[38;5;241m1\u001B[39m, \u001B[38;5;241m1\u001B[39m))\n\u001B[0;32m      3\u001B[0m \u001B[38;5;28mprint\u001B[39m(\u001B[38;5;124m\"\u001B[39m\u001B[38;5;124mroot:\u001B[39m\u001B[38;5;124m\"\u001B[39m, bst\u001B[38;5;241m.\u001B[39mroot)\n\u001B[1;32m----> 5\u001B[0m \u001B[43mbst\u001B[49m\u001B[38;5;241;43m.\u001B[39;49m\u001B[43minsert\u001B[49m\u001B[43m(\u001B[49m\u001B[38;5;241;43m2\u001B[39;49m\u001B[43m,\u001B[49m\u001B[43m \u001B[49m\u001B[38;5;241;43m2\u001B[39;49m\u001B[43m)\u001B[49m\n\u001B[0;32m      6\u001B[0m \u001B[38;5;28mprint\u001B[39m(\u001B[38;5;124m\"\u001B[39m\u001B[38;5;124mroot:\u001B[39m\u001B[38;5;124m\"\u001B[39m, bst\u001B[38;5;241m.\u001B[39mroot)\n\u001B[0;32m      8\u001B[0m \u001B[38;5;28mprint\u001B[39m(\u001B[38;5;124m\"\u001B[39m\u001B[38;5;124msearch 1:\u001B[39m\u001B[38;5;124m\"\u001B[39m, bst\u001B[38;5;241m.\u001B[39msearch(\u001B[38;5;241m1\u001B[39m))\n",
      "Cell \u001B[1;32mIn[8], line 76\u001B[0m, in \u001B[0;36mbinary_search_tree.insert\u001B[1;34m(self, v, k)\u001B[0m\n\u001B[0;32m     75\u001B[0m \u001B[38;5;28;01mdef\u001B[39;00m \u001B[38;5;21minsert\u001B[39m(\u001B[38;5;28mself\u001B[39m, v, k):\n\u001B[1;32m---> 76\u001B[0m     \u001B[38;5;28;01mif\u001B[39;00m \u001B[38;5;28;43mself\u001B[39;49m\u001B[38;5;241;43m.\u001B[39;49m\u001B[43msearch\u001B[49m\u001B[43m(\u001B[49m\u001B[43mk\u001B[49m\u001B[43m)\u001B[49m \u001B[38;5;129;01mis\u001B[39;00m \u001B[38;5;129;01mnot\u001B[39;00m \u001B[38;5;28;01mNone\u001B[39;00m:\n\u001B[0;32m     77\u001B[0m         \u001B[38;5;28;01mreturn\u001B[39;00m \n\u001B[0;32m     78\u001B[0m     node \u001B[38;5;241m=\u001B[39m bst_node(v, k)\n",
      "Cell \u001B[1;32mIn[8], line 71\u001B[0m, in \u001B[0;36mbinary_search_tree.search\u001B[1;34m(self, k)\u001B[0m\n\u001B[0;32m     69\u001B[0m     \u001B[38;5;28;01mif\u001B[39;00m k \u001B[38;5;241m>\u001B[39m x\u001B[38;5;241m.\u001B[39mkey:    \n\u001B[0;32m     70\u001B[0m         x \u001B[38;5;241m=\u001B[39m x\u001B[38;5;241m.\u001B[39mright\n\u001B[1;32m---> 71\u001B[0m     \u001B[38;5;28;01mif\u001B[39;00m k \u001B[38;5;241m<\u001B[39m \u001B[43mx\u001B[49m\u001B[38;5;241;43m.\u001B[39;49m\u001B[43mkey\u001B[49m:\n\u001B[0;32m     72\u001B[0m         x \u001B[38;5;241m=\u001B[39m x\u001B[38;5;241m.\u001B[39mleft\n\u001B[0;32m     73\u001B[0m \u001B[38;5;28;01mreturn\u001B[39;00m x\n",
      "\u001B[1;31mAttributeError\u001B[0m: 'NoneType' object has no attribute 'key'"
     ]
    }
   ],
   "source": [
    " "
   ],
   "metadata": {
    "collapsed": false,
    "ExecuteTime": {
     "end_time": "2023-08-18T11:46:01.895701300Z",
     "start_time": "2023-08-18T11:46:01.115342500Z"
    }
   },
   "id": "108ce8ee2c9c6cac"
  }
 ],
 "metadata": {
  "kernelspec": {
   "display_name": "Python 3",
   "language": "python",
   "name": "python3"
  },
  "language_info": {
   "codemirror_mode": {
    "name": "ipython",
    "version": 2
   },
   "file_extension": ".py",
   "mimetype": "text/x-python",
   "name": "python",
   "nbconvert_exporter": "python",
   "pygments_lexer": "ipython2",
   "version": "2.7.6"
  }
 },
 "nbformat": 4,
 "nbformat_minor": 5
}
