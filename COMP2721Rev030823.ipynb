{
 "cells": [
  {
   "cell_type": "markdown",
   "metadata": {
    "colab_type": "text",
    "id": "view-in-github"
   },
   "source": [
    "<a href=\"https://colab.research.google.com/github/sc21jr-fouritchhorse/comp2721Aug/blob/main/COMP2721Rev030823.ipynb\" target=\"_parent\"><img src=\"https://colab.research.google.com/assets/colab-badge.svg\" alt=\"Open In Colab\"/></a>"
   ]
  },
  {
   "cell_type": "code",
   "execution_count": 1,
   "metadata": {
    "id": "Vydv4Dg6SVm2",
    "ExecuteTime": {
     "end_time": "2023-08-17T15:15:05.390015300Z",
     "start_time": "2023-08-17T15:15:04.848400Z"
    }
   },
   "outputs": [
    {
     "ename": "ModuleNotFoundError",
     "evalue": "No module named 'networkx'",
     "output_type": "error",
     "traceback": [
      "\u001B[1;31m---------------------------------------------------------------------------\u001B[0m",
      "\u001B[1;31mModuleNotFoundError\u001B[0m                       Traceback (most recent call last)",
      "Cell \u001B[1;32mIn[1], line 1\u001B[0m\n\u001B[1;32m----> 1\u001B[0m \u001B[38;5;28;01mimport\u001B[39;00m \u001B[38;5;21;01mnetworkx\u001B[39;00m \u001B[38;5;28;01mas\u001B[39;00m \u001B[38;5;21;01mnx\u001B[39;00m\n\u001B[0;32m      2\u001B[0m \u001B[38;5;28;01mimport\u001B[39;00m \u001B[38;5;21;01mnumpy\u001B[39;00m \u001B[38;5;28;01mas\u001B[39;00m \u001B[38;5;21;01mnp\u001B[39;00m\n\u001B[0;32m      3\u001B[0m \u001B[38;5;28;01mfrom\u001B[39;00m   \u001B[38;5;21;01mmatplotlib\u001B[39;00m\u001B[38;5;21;01m.\u001B[39;00m\u001B[38;5;21;01mfont_manager\u001B[39;00m \u001B[38;5;28;01mimport\u001B[39;00m FontProperties\n",
      "\u001B[1;31mModuleNotFoundError\u001B[0m: No module named 'networkx'"
     ]
    }
   ],
   "source": [
    "import networkx as nx\n",
    "import numpy as np\n",
    "from   matplotlib.font_manager import FontProperties\n",
    "import matplotlib.pyplot as plt\n",
    "import random\n",
    "import heapq"
   ]
  },
  {
   "cell_type": "code",
   "execution_count": null,
   "metadata": {
    "id": "uh2fKxeHS6mN",
    "ExecuteTime": {
     "start_time": "2023-08-17T15:15:05.348015200Z"
    }
   },
   "outputs": [],
   "source": [
    "def jrcs_bfs(G):\n",
    "  visited = []\n",
    "  Q = []\n",
    "  T = nx.Graph()\n",
    "  s = \"\"\n",
    "  visited = {}\n",
    "  for v in list(G.nodes):\n",
    "    visited[v] = False\n",
    "  Q.append(0)\n",
    "  T.add_node(0)\n",
    "  visited[0] = True\n",
    "  while(len(Q) > 0):\n",
    "    print(Q)\n",
    "    u = Q.pop()\n",
    "    s += \"{}, \".format(u)\n",
    "    for v in list(G.adj[u]):\n",
    "      if(visited[v] == False):\n",
    "        visited[v] = True\n",
    "        Q.append(v)\n",
    "        T.add_node(v)\n",
    "        T.add_edge(u, v)\n",
    "  print(\"BFS ordering\\n\" + s + \"\\n\")\n",
    "  return T\n"
   ]
  },
  {
   "cell_type": "code",
   "execution_count": null,
   "metadata": {
    "id": "29bXOFLO8sqg",
    "ExecuteTime": {
     "start_time": "2023-08-17T15:15:05.353012300Z"
    }
   },
   "outputs": [],
   "source": [
    "def jrcs_dfs_simplified(G):\n",
    "  T = nx.Graph()\n",
    "  T.add_nodes_from(G)\n",
    "  V = set(list(G.nodes))\n",
    "  visited = set()\n",
    "  _sigma = []\n",
    "  i = 0\n",
    "  while (len(V.difference(visited)) > 0):\n",
    "    v = list(V.difference(visited)).pop()\n",
    "    if v not in visited:\n",
    "      _sigma.insert(i,v)\n",
    "    T, _sigma, visited, i \\\n",
    "    = jrcs_dfs_visit(G, v, T, _sigma, visited, i)\n",
    "\n",
    "\n",
    "  print(\"DFS ordering\\n\" + str(_sigma).strip('[').strip(']') + '\\n')\n",
    "  return T\n",
    "\n",
    "def jrcs_dfs_visit(G, v, F, sigma, visited, i):\n",
    "  visited.add(v)\n",
    "  sigma.insert(i, v)\n",
    "  i += 1\n",
    "  for w in G.adj[v]:\n",
    "    if w not in visited:\n",
    "      F.add_edge(v, w)\n",
    "      F, sigma, visited, i \\\n",
    "      = jrcs_dfs_visit(G, w, F, sigma, visited, i)\n",
    "  return F, sigma, visited, i\n"
   ]
  },
  {
   "cell_type": "code",
   "execution_count": null,
   "metadata": {
    "id": "U5QalTphm0Z5",
    "ExecuteTime": {
     "start_time": "2023-08-17T15:15:05.358019800Z"
    }
   },
   "outputs": [],
   "source": [
    "#input G has to be an undirected, weighted\n",
    "#graph where all rates are rational numbers\n",
    "#larger than 0\n",
    "def jrcs_prim(G):\n",
    "  pri_queue = list(G.edges)\n",
    "  heapq.heapify(pri_queue)\n",
    "  visited = []\n",
    "\n",
    "  s = random.choice(list(G.nodes))\n",
    "\n",
    "  T = nx.Graph()\n",
    "  T.add_node(s)\n",
    "  visited.append(s)\n",
    "\n",
    "  while len(pri_queue) > 0:\n",
    "    u = visited[-1]    \n",
    "    for v in G.adj[u]:  \n",
    "      if v in visited:\n",
    "        continue\n",
    "      for e in G.edges[u, v]:\n",
    "        heapq.heappop(pri_queue, e)\n",
    "        T.add_edge(e)\n",
    "        visited.append[v]\n",
    "        \n",
    "  return T"
   ]
  },
  {
   "cell_type": "code",
   "execution_count": null,
   "metadata": {
    "id": "pz1WyRxHjDBU",
    "ExecuteTime": {
     "start_time": "2023-08-17T15:15:05.364020300Z"
    }
   },
   "outputs": [],
   "source": [
    "#input G has to be an undirected, weighted\n",
    "#graph where all rates are rational numbers\n",
    "#larger than 0\n",
    "def jrcs_kruskal(G):\n",
    "    T = nx.Graph()\n",
    "    T.add_nodes_from(G)\n",
    "    weight_list = sorted(list(G.edges), key= lambda edge : edge[2])\n",
    "\n",
    "    return T"
   ]
  },
  {
   "cell_type": "code",
   "execution_count": null,
   "metadata": {
    "ExecuteTime": {
     "start_time": "2023-08-17T15:15:05.367020900Z"
    }
   },
   "outputs": [],
   "source": [
    "def gen_MST_test():\n",
    "    edge_weights = {}\n",
    "    G = nx.random_geometric_graph(8, 5)\n",
    "    for e in G.edges:\n",
    "        edge_weights[e] = random.randrange(1, 100)\n",
    "    nx.set_edge_attributes(G, values=edge_weights, name=\"weight\")\n",
    "    return G "
   ]
  },
  {
   "cell_type": "code",
   "execution_count": null,
   "metadata": {
    "colab": {
     "base_uri": "https://localhost:8080/",
     "height": 1000
    },
    "id": "YAZbYHAfdwI1",
    "outputId": "604f7565-71d6-4859-9d94-c3781a6cfc62",
    "ExecuteTime": {
     "start_time": "2023-08-17T15:15:05.370024100Z"
    }
   },
   "outputs": [],
   "source": [
    "example = nx.connected_caveman_graph(5, 5)\n",
    "my_fig0 = plt.figure(figsize=(5,5))\n",
    "nx.draw(example, with_labels=True)\n",
    "\n",
    "#test searches\n",
    "my_fig1 = plt.figure(figsize=(5,5))\n",
    "nx.draw_spring(jrcs_bfs(example), with_labels=True)\n",
    "print()\n",
    "my_fig2 = plt.figure(figsize=(5, 5))\n",
    "nx.draw_spring(jrcs_dfs_simplified(example), with_labels=True)\n",
    "print()\n"
   ]
  },
  {
   "cell_type": "code",
   "execution_count": null,
   "outputs": [],
   "source": [
    "example = gen_MST_test()\n",
    "my_fig3 = plt.figure(figsize=(5,5))\n",
    "pos = nx.spring_layout(example)\n",
    "nx.draw(example, pos=pos)\n",
    "nx.draw_networkx_edge_labels(example, pos,\n",
    "                             edge_labels=nx.get_edge_attributes(example, \"weight\"))\n",
    "#Test MST algs\n",
    "my_fig4 = plt.figure(figsize=(5,5))\n",
    "nx.draw_spring(jrcs_prim(example))\n"
   ],
   "metadata": {
    "collapsed": false,
    "ExecuteTime": {
     "start_time": "2023-08-17T15:15:05.375011800Z"
    }
   }
  }
 ],
 "metadata": {
  "colab": {
   "include_colab_link": true,
   "provenance": []
  },
  "kernelspec": {
   "display_name": "Python 3",
   "language": "python",
   "name": "python3"
  },
  "language_info": {
   "codemirror_mode": {
    "name": "ipython",
    "version": 3
   },
   "file_extension": ".py",
   "mimetype": "text/x-python",
   "name": "python",
   "nbconvert_exporter": "python",
   "pygments_lexer": "ipython3",
   "version": "3.10.12"
  }
 },
 "nbformat": 4,
 "nbformat_minor": 0
}
